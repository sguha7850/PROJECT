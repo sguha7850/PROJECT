{
  "cells": [
    {
      "cell_type": "markdown",
      "metadata": {
        "id": "view-in-github",
        "colab_type": "text"
      },
      "source": [
        "<a href=\"https://colab.research.google.com/github/sguha7850/PROJECT/blob/main/welcome/running_python.ipynb\" target=\"_parent\"><img src=\"https://colab.research.google.com/assets/colab-badge.svg\" alt=\"Open In Colab\"/></a>"
      ]
    },
    {
      "cell_type": "markdown",
      "metadata": {
        "id": "s_Jxc5jdHm9f"
      },
      "source": [
        "\n",
        "<center>\n",
        "<table>\n",
        "  <tr>\n",
        "    <td><img src=\"http://www.nasa.gov/sites/all/themes/custom/nasatwo/images/nasa-logo.svg\" width=\"100\"/> </td>\n",
        "     <td><img src=\"https://github.com/astg606/py_materials/blob/master/logos/ASTG_logo.png?raw=true\" width=\"80\"/> </td>\n",
        "     <td> <img src=\"https://www.nccs.nasa.gov/sites/default/files/NCCS_Logo_0.png\" width=\"130\"/> </td>\n",
        "    </tr>\n",
        "</table>\n",
        "</center>\n",
        "\n",
        "        \n",
        "<center>\n",
        "<h1><font color= \"blue\" size=\"+3\">ASTG Python Courses</font></h1>\n",
        "</center>\n",
        "\n",
        "\n",
        "---\n",
        "\n",
        "<center><h1>\n",
        "    <font color=\"red\" size=\"+2\">Running Python</font>  \n",
        "</h1></center>"
      ]
    },
    {
      "cell_type": "code",
      "source": [
        "import numpy as np\n",
        "import sympy as sp\n",
        "\n",
        "def bisection_method(f, a, b, tol=1e-6, max_iter=100):\n",
        "    \"\"\"Find a root of f in [a, b] using the bisection method.\"\"\"\n",
        "    if f(a) * f(b) >= 0:\n",
        "        return None, None  # No sign change, no root guaranteed\n",
        "\n",
        "    mid = (a + b) / 2.0\n",
        "    error = abs(b - a)\n",
        "\n",
        "    for _ in range(max_iter):\n",
        "        mid = (a + b) / 2.0\n",
        "        error = abs(b - a) / 2.0\n",
        "\n",
        "        if abs(f(mid)) < tol or error < tol:\n",
        "            return mid, error\n",
        "\n",
        "        if f(a) * f(mid) < 0:\n",
        "            b = mid\n",
        "        else:\n",
        "            a = mid\n",
        "\n",
        "    return mid, error\n",
        "\n",
        "def find_roots(f_str, x_range=(-10, 10), num_points=1000):\n",
        "    \"\"\"Find all roots of f in the given range using bisection method.\"\"\"\n",
        "    x = sp.Symbol('x')\n",
        "    f_sympy = sp.sympify(f_str)\n",
        "    f = sp.lambdify(x, f_sympy, 'numpy')\n",
        "\n",
        "    x_vals = np.linspace(x_range[0], x_range[1], num_points)\n",
        "    f_vals = f(x_vals)\n",
        "\n",
        "    roots = []\n",
        "    for i in range(len(x_vals) - 1):\n",
        "        a, b = x_vals[i], x_vals[i + 1]\n",
        "        if f_vals[i] * f_vals[i + 1] < 0:  # Sign change\n",
        "            root, error = bisection_method(f, a, b)\n",
        "            if root is not None:\n",
        "                roots.append((root, error))\n",
        "\n",
        "    return roots\n",
        "\n",
        "if __name__ == \"__main__\":\n",
        "    func_input = input(\"Enter a function in terms of x (e.g., x**3 - x - 2): \")\n",
        "    x_min, x_max = map(float, input(\"Enter the search interval (e.g., -10 10): \").split())\n",
        "\n",
        "    roots = find_roots(func_input, x_range=(x_min, x_max))\n",
        "\n",
        "    if roots:\n",
        "        print(\"\\nRoots found:\")\n",
        "        for r, err in roots:\n",
        "            print(f\"Root: {r:.6f}, Absolute Error: {err:.6e}\")\n",
        "    else:\n",
        "        print(\"No roots found in the given range.\")\n"
      ],
      "metadata": {
        "id": "6jyQmv6tIqYN",
        "outputId": "024f51fd-73c0-440b-9e58-93e212cdc28b",
        "colab": {
          "base_uri": "https://localhost:8080/"
        }
      },
      "execution_count": 2,
      "outputs": [
        {
          "output_type": "stream",
          "name": "stdout",
          "text": [
            "Enter a function in terms of x (e.g., x**3 - x - 2): x**3 - x - 2\n",
            "Enter the search interval (e.g., -10 10): 0 100\n",
            "\n",
            "Roots found:\n",
            "Root: 1.521380, Absolute Error: 7.637032e-07\n"
          ]
        }
      ]
    },
    {
      "cell_type": "code",
      "source": [
        "import numpy as np\n",
        "import sympy as sp\n",
        "\n",
        "def bisection_method(f, a, b, tol=1e-6, max_iter=100):\n",
        "    \"\"\"Find a root of f in [a, b] using the bisection method.\"\"\"\n",
        "    if f(a) * f(b) >= 0:\n",
        "        return None, None, None  # No sign change, no root guaranteed\n",
        "\n",
        "    mid = (a + b) / 2.0\n",
        "    error = abs(b - a)\n",
        "    iterations = 0\n",
        "\n",
        "    for i in range(max_iter):\n",
        "        mid = (a + b) / 2.0\n",
        "        error = abs(b - a) / 2.0\n",
        "        iterations = i + 1\n",
        "\n",
        "        if abs(f(mid)) < tol or error < tol:\n",
        "            return mid, error, iterations\n",
        "\n",
        "        if f(a) * f(mid) < 0:\n",
        "            b = mid\n",
        "        else:\n",
        "            a = mid\n",
        "\n",
        "    return mid, error, iterations\n",
        "\n",
        "def find_roots(f_str, x_range=(-10, 10), num_points=1000):\n",
        "    \"\"\"Find all roots of f in the given range using bisection method.\"\"\"\n",
        "    x = sp.Symbol('x')\n",
        "    f_sympy = sp.sympify(f_str)\n",
        "    f = sp.lambdify(x, f_sympy, 'numpy')\n",
        "\n",
        "    x_vals = np.linspace(x_range[0], x_range[1], num_points)\n",
        "    f_vals = f(x_vals)\n",
        "\n",
        "    roots = []\n",
        "    for i in range(len(x_vals) - 1):\n",
        "        a, b = x_vals[i], x_vals[i + 1]\n",
        "        if f_vals[i] * f_vals[i + 1] < 0:  # Sign change\n",
        "            root, error, iterations = bisection_method(f, a, b)\n",
        "            if root is not None:\n",
        "                roots.append((root, error, iterations))\n",
        "\n",
        "    return roots\n",
        "\n",
        "if __name__ == \"__main__\":\n",
        "    func_input = input(\"Enter a function in terms of x (e.g., x**3 - x - 2): \")\n",
        "    x_min, x_max = map(float, input(\"Enter the search interval (e.g., -10 10): \").split())\n",
        "\n",
        "    roots = find_roots(func_input, x_range=(x_min, x_max))\n",
        "\n",
        "    if roots:\n",
        "        print(\"\\nRoots found:\")\n",
        "        for r, err, iters in roots:\n",
        "            print(f\"Root: {r:.6f}, Absolute Error: {err:.6e}, Iterations: {iters}\")\n",
        "    else:\n",
        "        print(\"No roots found in the given range.\")\n"
      ],
      "metadata": {
        "id": "X8kKHEtgJTxh",
        "outputId": "37d1b575-4a2a-460a-a33e-4e79ae0e948c",
        "colab": {
          "base_uri": "https://localhost:8080/"
        }
      },
      "execution_count": 4,
      "outputs": [
        {
          "output_type": "stream",
          "name": "stdout",
          "text": [
            "Enter a function in terms of x (e.g., x**3 - x - 2): x**2 - 3*x - 2\n",
            "Enter the search interval (e.g., -10 10): 0 10\n",
            "\n",
            "Roots found:\n",
            "Root: 3.561553, Absolute Error: 6.109625e-07, Iterations: 14\n"
          ]
        }
      ]
    },
    {
      "cell_type": "code",
      "source": [
        "import numpy as np\n",
        "import sympy as sp\n",
        "\n",
        "def bisection_method(f, a, b, tol=1e-6, max_iter=100):\n",
        "    \"\"\"Find a root of f in [a, b] using the bisection method.\"\"\"\n",
        "    if f(a) * f(b) >= 0:\n",
        "        return None, None, None  # No sign change, no root guaranteed\n",
        "\n",
        "    mid = (a + b) / 2.0\n",
        "    error = abs(b - a)\n",
        "    iterations = 0\n",
        "\n",
        "    for i in range(max_iter):\n",
        "        mid = (a + b) / 2.0\n",
        "        error = abs(b - a) / 2.0\n",
        "        iterations = i + 1\n",
        "\n",
        "        if abs(f(mid)) < tol or error < tol:\n",
        "            return mid, error, iterations\n",
        "\n",
        "        if f(a) * f(mid) < 0:\n",
        "            b = mid\n",
        "        else:\n",
        "            a = mid\n",
        "\n",
        "    return mid, error, iterations\n",
        "\n",
        "def find_roots(f_str, x_range=(-10, 10), num_points=5000):\n",
        "    \"\"\"Find all roots of f in the given range using bisection method.\"\"\"\n",
        "    x = sp.Symbol('x')\n",
        "    f_sympy = sp.sympify(f_str)\n",
        "    f = sp.lambdify(x, f_sympy, 'numpy')\n",
        "\n",
        "    x_vals = np.linspace(x_range[0], x_range[1], num_points)\n",
        "    f_vals = f(x_vals)\n",
        "\n",
        "    roots = []\n",
        "    checked_intervals = set()\n",
        "\n",
        "    for i in range(len(x_vals) - 1):\n",
        "        a, b = x_vals[i], x_vals[i + 1]\n",
        "        if f_vals[i] * f_vals[i + 1] < 0:  # Sign change\n",
        "            interval = (round(a, 6), round(b, 6))\n",
        "            if interval not in checked_intervals:\n",
        "                root, error, iterations = bisection_method(f, a, b)\n",
        "                if root is not None:\n",
        "                    roots.append((root, error, iterations))\n",
        "                    checked_intervals.add(interval)\n",
        "\n",
        "    return roots\n",
        "\n",
        "if __name__ == \"__main__\":\n",
        "    func_input = input(\"Enter a function in terms of x (e.g., x**3 - x - 2): \")\n",
        "    x_min, x_max = map(float, input(\"Enter the search interval (e.g., -10 10): \").split())\n",
        "\n",
        "    roots = find_roots(func_input, x_range=(x_min, x_max))\n",
        "\n",
        "    if roots:\n",
        "        print(\"\\nRoots found:\")\n",
        "        for r, err, iters in roots:\n",
        "            print(f\"Root: {r:.6f}, Absolute Error: {err:.6e}, Iterations: {iters}\")\n",
        "    else:\n",
        "        print(\"No roots found in the given range.\")\n"
      ],
      "metadata": {
        "id": "d470oW0QJ2qp",
        "outputId": "4c54fa55-2240-43d3-9562-5f4ab2fb426b",
        "colab": {
          "base_uri": "https://localhost:8080/"
        }
      },
      "execution_count": 6,
      "outputs": [
        {
          "output_type": "stream",
          "name": "stdout",
          "text": [
            "Enter a function in terms of x (e.g., x**3 - x - 2): x**2 - 3*x - 2\n",
            "Enter the search interval (e.g., -10 10): 0 100\n",
            "\n",
            "Roots found:\n",
            "Root: 3.561553, Absolute Error: 6.104737e-07, Iterations: 15\n"
          ]
        }
      ]
    },
    {
      "cell_type": "code",
      "source": [
        "import numpy as np\n",
        "\n",
        "def fn(x):\n",
        "    # This the equation to find the root\n",
        "    return (x**3 - x - 1) #x**2 - x - 1\n",
        "\n",
        "def find_root_interval():\n",
        "    for x in range(0, 1000):\n",
        "        if fn(x) < 0:\n",
        "            lower_interval = x\n",
        "            if fn(x+1) > 0:\n",
        "                higher_interval = x + 1\n",
        "                return lower_interval, higher_interval\n",
        "    return False\n",
        "\n",
        "def bisection():\n",
        "    a,b = find_root_interval()\n",
        "    print(\"Interval: [{},{}]\".format(a,b))\n",
        "    # Create a 1000 equally spaced values between interval\n",
        "    mid = 0\n",
        "    while True:\n",
        "        prev_mid = mid\n",
        "        mid = (a+b)/2\n",
        "        print(\"Mid value: \"+str(mid))\n",
        "        # 0.0005 is set as the error range\n",
        "        if abs(mid-prev_mid) < 0.0005:\n",
        "            return mid\n",
        "        elif fn(mid) > 0:\n",
        "            b = mid\n",
        "        else:\n",
        "            a = mid\n",
        "\n",
        "root = bisection()\n",
        "print(root)"
      ],
      "metadata": {
        "id": "1OnWbtNgKadv",
        "outputId": "92ad9f91-ea4c-4a50-8f6d-9973e99c6c62",
        "colab": {
          "base_uri": "https://localhost:8080/"
        }
      },
      "execution_count": 7,
      "outputs": [
        {
          "output_type": "stream",
          "name": "stdout",
          "text": [
            "Interval: [1,2]\n",
            "Mid value: 1.5\n",
            "Mid value: 1.25\n",
            "Mid value: 1.375\n",
            "Mid value: 1.3125\n",
            "Mid value: 1.34375\n",
            "Mid value: 1.328125\n",
            "Mid value: 1.3203125\n",
            "Mid value: 1.32421875\n",
            "Mid value: 1.326171875\n",
            "Mid value: 1.3251953125\n",
            "Mid value: 1.32470703125\n",
            "1.32470703125\n"
          ]
        }
      ]
    },
    {
      "cell_type": "code",
      "source": [
        "def samesign(a, b):\n",
        "        return a * b > 0\n",
        "\n",
        "def bisect(func, low, high):\n",
        "    'Find root of continuous function where f(low) and f(high) have opposite signs'\n",
        "\n",
        "    assert not samesign(func(low), func(high))\n",
        "\n",
        "    for i in range(54):\n",
        "        midpoint = (low + high) / 2.0\n",
        "        if samesign(func(low), func(midpoint)):\n",
        "            low = midpoint\n",
        "        else:\n",
        "            high = midpoint\n",
        "\n",
        "    return midpoint\n",
        "\n",
        "def f(x):\n",
        "        return -26 + 85*x - 91*x**2 +44*x**3 -8*x**4 + x**5\n",
        "\n",
        "x = bisect(f, 0, 1)\n",
        "print(x, f(x))"
      ],
      "metadata": {
        "id": "P_hzzRr_KkGC",
        "outputId": "8970a797-ed56-438b-b9fc-efc8650413cb",
        "colab": {
          "base_uri": "https://localhost:8080/"
        }
      },
      "execution_count": 8,
      "outputs": [
        {
          "output_type": "stream",
          "name": "stdout",
          "text": [
            "0.5570255162865259 3.7470027081099033e-16\n"
          ]
        }
      ]
    },
    {
      "cell_type": "code",
      "source": [
        "import sympy as sp\n",
        "\n",
        "def samesign(a, b):\n",
        "    return a * b > 0\n",
        "\n",
        "def bisect(func, low, high, tol=1e-6, max_iter=100):\n",
        "    'Find root of continuous function where f(low) and f(high) have opposite signs'\n",
        "    assert not samesign(func(low), func(high))\n",
        "\n",
        "    iterations = 0\n",
        "    error = abs(high - low)\n",
        "\n",
        "    for i in range(max_iter):\n",
        "        midpoint = (low + high) / 2.0\n",
        "        error = abs(high - low) / 2.0\n",
        "        iterations += 1\n",
        "\n",
        "        if abs(func(midpoint)) < tol or error < tol:\n",
        "            return midpoint, iterations, error\n",
        "\n",
        "        if samesign(func(low), func(midpoint)):\n",
        "            low = midpoint\n",
        "        else:\n",
        "            high = midpoint\n",
        "\n",
        "    return midpoint, iterations, error\n",
        "\n",
        "if __name__ == \"__main__\":\n",
        "    func_input = input(\"Enter a function in terms of x (e.g., x**3 - x - 2): \")\n",
        "    x_min, x_max = map(float, input(\"Enter the search interval (e.g., 0 1): \").split())\n",
        "\n",
        "    x = sp.Symbol('x')\n",
        "    f_sympy = sp.sympify(func_input)\n",
        "    f = sp.lambdify(x, f_sympy, 'numpy')\n",
        "\n",
        "    root, iterations, error = bisect(f, x_min, x_max)\n",
        "    print(f\"Root: {root:.6f}, Iterations: {iterations}, Absolute Error: {error:.6e}\")\n"
      ],
      "metadata": {
        "id": "87zX66WAK6HT",
        "outputId": "380b05e2-70ee-4600-8b53-624737b9700c",
        "colab": {
          "base_uri": "https://localhost:8080/"
        }
      },
      "execution_count": 9,
      "outputs": [
        {
          "output_type": "stream",
          "name": "stdout",
          "text": [
            "Enter a function in terms of x (e.g., x**3 - x - 2): x**3 - x - 2\n",
            "Enter the search interval (e.g., 0 1): 0 10\n",
            "Root: 1.521379, Iterations: 24, Absolute Error: 5.960464e-07\n"
          ]
        }
      ]
    },
    {
      "cell_type": "markdown",
      "metadata": {
        "id": "KSz-TEhIHm9l"
      },
      "source": [
        "# <font color='blue'>Why Learn Python?</font>\n",
        "\n",
        "---\n",
        "\n",
        "* Is a free and open-source.\n",
        "* Is a high-level and interpreted general purpose programming language.\n",
        "* Its simple syntax makes it suitable for learning programming as a first language.\n",
        "* Has a very extensive standard library and over 150,000 external libraries.\n",
        "* Is portable and extensible. It interoprate with other languages such as Fortran, C, C++, Java,...\n",
        "* Has a large community.\n",
        "\n",
        "**Benefits of Learning Python**\n",
        "\n",
        "![fig_python](https://static.javatpoint.com/interview/images/advantages-of-python.png)\n",
        "Image Source: www.javatpoint.com\n",
        "\n",
        "Python finds applications in areas such as:\n",
        "\n",
        "+ Web Programming\n",
        "+ Data Science\n",
        "+ Machine Learning and Artificial Intelligence\n",
        "+ Scripting & Automation\n",
        "+ Games\n",
        "+ Desktop GUI applications\n",
        "+ Database access\n",
        "          \n",
        "![fig_python](https://hackernoon.com/hn-images/1*jVKTE1dd8CVv4WEtcidCPA.png)"
      ]
    },
    {
      "cell_type": "markdown",
      "metadata": {
        "id": "7dFnA2MzHm9m"
      },
      "source": [
        "# <font color='blue'> Python Versions</font>\n",
        "\n",
        "----\n",
        "\n",
        "Python has two major versions:\n",
        "\n",
        "+ **2.x**: Released in 2000. The latest version is 2.7 released in 2010. __It is not recommended for use in new projects__.\n",
        "+ **3.x**: Released in 2008 to fix problems that exist in Python 2.x.\n",
        "   - The nature of these changes is such that Python 3 was incompatible with Python 2. It is backward incompatible.\n",
        "   - Python 3 isn’t compatible with Python 2.\n",
        "   - You should use the latest versions of Python 3 for your new projects.\n",
        "\n",
        "**For this class, we will use Python 3.x.**"
      ]
    },
    {
      "cell_type": "markdown",
      "metadata": {
        "id": "LhdVhO20Hm9n"
      },
      "source": [
        "# <font color='blue'>Ways to Run Python</font>\n",
        "\n",
        "---\n",
        "We want to introduce four ways to run Python:\n",
        "\n",
        "* Interactive Command Line through `python`\n",
        "* Interactive Command Line through `ipython`\n",
        "* Scripting\n",
        "* Jupyter Notebook\n"
      ]
    },
    {
      "cell_type": "markdown",
      "metadata": {
        "id": "EDepVts-Hm9o"
      },
      "source": [
        "You first need to make sure that Python is install on your system.\n",
        "With Linux/Unix systems, a default Python interpreter comes with the operating system. To test this, from the terminal type:\n",
        "\n",
        "`which python`\n",
        "\n",
        "and you will see something like:\n",
        "\n",
        "`/usr/bin/python`\n"
      ]
    },
    {
      "cell_type": "markdown",
      "metadata": {
        "id": "M8ScR0buHm9o"
      },
      "source": [
        "### <font color='red'> Interactive Command Line through `python` </font>\n",
        "\n",
        "---\n",
        "\n",
        "* You can use the interpreter in the interactive mode to test some commands.\n",
        "* You need to type `python` from the command line.\n",
        "* You can directly type in Python code, and press `Enter` to get the output.\n",
        "* You can exit the interactive mode with `quit()` or `exit` command or `^Ctrl + D`.\n",
        "* The sequence you enter will not be saved if you close the current session."
      ]
    },
    {
      "cell_type": "markdown",
      "metadata": {
        "id": "zkJzl8Z3Hm9p"
      },
      "source": [
        "**Sample Session**\n",
        "\n",
        "1. Open your terminal/Anaconda prompt and type:\n",
        "\n",
        "`python`\n",
        "\n",
        "\n",
        "2. From this interactive shell, you will notice that the prompt is `>>>`. This is now allowing us to type Python code directly and execute it.\n",
        "\n",
        "3. Now type:\n",
        "\n",
        "`print('Hello world!')`\n",
        "\n",
        "4. You should see the output on the screen.\n",
        "\n",
        "5. To exit the Python shell type `exit()` and press `Return` key.\n",
        "\n"
      ]
    },
    {
      "cell_type": "markdown",
      "metadata": {
        "id": "79Hk0_aHHm9p"
      },
      "source": [
        "### <font color='red'>Interactive Command Line through `ipython` </font>\n",
        "\n",
        "---\n",
        "* IPython is an interactive shell for the Python programming language that offers enhanced introspection, additional shell syntax, tab completion and rich history.\n",
        "* It does not come by default with Python.\n",
        "* IPython gives you all that you get in the basic interpreter but with a lot extra (line numbers, advanced editing, more functions, help functions etc).\n",
        "* It can be started by typing `ipython` at the command line.\n",
        "* The main aesthetic difference between the Python interpreter and the enhanced IPython interpreter lies in the command prompt: Python uses `>>>` by default, while IPython uses numbered commands (e.g. `In [1]:`)."
      ]
    },
    {
      "cell_type": "markdown",
      "metadata": {
        "id": "ulxYgnE3Hm9q"
      },
      "source": [
        "**Sample Session**\n",
        "\n",
        "1. Open your terminal/Anaconda prompt and type:\n",
        "\n",
        "`ipython`\n",
        "\n",
        "2. This is an enhanced interactive shell that has many features (tab-completion, woot!). It also has a prompt that is numbered.\n",
        "\n",
        "3. Now type:\n",
        "\n",
        "`print('Hello world!')`\n",
        "\n",
        "4. You should see the output on the screen.\n",
        "\n",
        "5. To exit the Python shell type `exit()` and press `Return` key."
      ]
    },
    {
      "cell_type": "markdown",
      "metadata": {
        "id": "3F7jwLptHm9r"
      },
      "source": [
        "### <font color='red'> Scripting </font>\n",
        "\n",
        "---\n",
        "* Real Python programs are made as scripts and look like simple text files.\n",
        "* These files are given extensions `.py`.\n",
        "* You can create text files using whatever text editor you like.\n",
        "* To run the script you need to use the programming language interpreter and specify the name of the created file as an additional parameter:\n",
        "\n",
        "```\n",
        "       %python my_python_file.py\n",
        "```"
      ]
    },
    {
      "cell_type": "markdown",
      "metadata": {
        "id": "huZg9GbeHm9r"
      },
      "source": [
        "**Sample Session**\n",
        "\n",
        "1. Start a new ASCII/text document named `helloworld.py` and enter the following text:\n",
        "\n",
        "`print('Hello world!')`\n",
        "\n",
        "2. Save the document and then in your terminal/Anaconda prompt, go to the directory containing the newlt created file.\n",
        "\n",
        "\n",
        "3. From the terminal/Anaconda prompt, type:\n",
        "\n",
        "`python helloworld.py`\n",
        "\n",
        "4. You should see the output on the screen."
      ]
    },
    {
      "cell_type": "markdown",
      "metadata": {
        "id": "zdAhT3mHHm9r"
      },
      "source": [
        "### <font color='red'> Jupyter Notebook </font>\n",
        "\n",
        "---\n",
        "* A useful hybrid of the interactive terminal and the self-contained script is the Jupyter notebook, a document format that allows executable code, formatted text, graphics, and even interactive features to be combined into a single document.\n",
        "* Though the notebook began as a Python-only format, it has since been made compatible with a large number of programming languages.\n",
        "* The notebook is useful both as a development environment, and as a means of sharing work via rich computational and data-driven narratives that mix together code, figures, data, and text.\n"
      ]
    },
    {
      "cell_type": "markdown",
      "metadata": {
        "id": "BNIHI7EAHm9r"
      },
      "source": [
        "**Sample Session**\n",
        "\n",
        "1. Open your terminal/Anaconda Prompt and type:\n",
        "\n",
        "`jupyter notebook`\n",
        "\n",
        "2. This directs you to a web browser and you can navigate to an already existing notebook or create one (right side menu New -> Python 3).\n",
        "\n",
        "3. This will open up a new Untitled notebook where you can directly input Python code, Markup formatted text, or have raw text.\n",
        "\n",
        "4. Now type:\n",
        "\n",
        "`print('Hello world!')`\n",
        "\n",
        "5. Press `Shift+Enter`, `Cntrl+Enter` or click `Cells -> Run Cells` or use the `Play` button near the top of the page.\n",
        "\n",
        "6. You should see the output on the screen.\n",
        "\n",
        "7. Exit via closing the browser windows and stopping the server running in the terminal/command prompt (most likely with a Cntrl+C)."
      ]
    },
    {
      "cell_type": "markdown",
      "metadata": {
        "id": "-7yK-s3EHm9s"
      },
      "source": [
        "## <font color='red'>Other Ways</font>\n",
        "\n",
        "* [10 Best Python IDE & Code Editors](https://hackr.io/blog/best-python-ide)\n",
        "* [Python IDEs and Code Editors (Guide)](https://realpython.com/python-ides-code-editors-guide/)\n",
        "* [Google Colaboratory](http://colab.research.google.com)\n",
        "* [Binder](http://mybinder.org)\n",
        "* [Microsoft Azure](http://notebooks.azure.com)"
      ]
    },
    {
      "cell_type": "markdown",
      "metadata": {
        "id": "hRjRJpCaHm9s"
      },
      "source": [
        "# <font color='blue'>References</font>\n",
        "\n",
        "* [How to Run Python Code](https://jakevdp.github.io/WhirlwindTourOfPython/01-how-to-run-python-code.html)\n",
        "* [How To Run Your Python Scripts](https://www.knowledgehut.com/blog/programming/run-python-scripts)\n",
        "* [Getting Started with Python in Visual Studio Code](https://code.visualstudio.com/docs/python/python-tutorial)\n",
        "* [How to Run a Python Script on Mac](https://www.maketecheasier.com/run-python-script-in-mac/)\n",
        "* [Running Python Scripts from anywhere under Windows](https://correlated.kayako.com/article/40-running-python-scripts-from-anywhere-under-windows)"
      ]
    }
  ],
  "metadata": {
    "celltoolbar": "Slideshow",
    "kernelspec": {
      "display_name": "Python 3 (ipykernel)",
      "language": "python",
      "name": "python3"
    },
    "language_info": {
      "codemirror_mode": {
        "name": "ipython",
        "version": 3
      },
      "file_extension": ".py",
      "mimetype": "text/x-python",
      "name": "python",
      "nbconvert_exporter": "python",
      "pygments_lexer": "ipython3",
      "version": "3.8.2"
    },
    "colab": {
      "provenance": [],
      "include_colab_link": true
    }
  },
  "nbformat": 4,
  "nbformat_minor": 0
}